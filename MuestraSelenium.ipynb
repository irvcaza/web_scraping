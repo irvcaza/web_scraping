{
 "cells": [
  {
   "cell_type": "code",
   "execution_count": 1,
   "id": "f413a178-d21f-4362-b8a0-262cc9bbaf31",
   "metadata": {},
   "outputs": [],
   "source": [
    "from selenium import webdriver\n",
    "from selenium.webdriver.common.by import By\n",
    "from selenium.webdriver.firefox.options import Options\n",
    "import time"
   ]
  },
  {
   "cell_type": "code",
   "execution_count": 2,
   "id": "0d997e24-6126-4677-b99c-3615ff5ef683",
   "metadata": {},
   "outputs": [],
   "source": [
    "options = Options()\n",
    "# Selenium por defecto abre una ventana con firefox/chrome. Como estamos dentro de un contenedor esto no es posible. \n",
    "# Por eso le damos la opcion headless\n",
    "options.add_argument(\"--headless\")"
   ]
  },
  {
   "cell_type": "code",
   "execution_count": 3,
   "id": "9c3c52bc-a58b-4784-bb81-1d6f95f2c675",
   "metadata": {},
   "outputs": [],
   "source": [
    "# Iniciamos el driver de firefox. Para eso se necesita tener firefox instalado en el contendor y gecko driver en el $PATH\n",
    "driver = webdriver.Firefox(options=options)"
   ]
  },
  {
   "cell_type": "code",
   "execution_count": 4,
   "id": "2cb08286-eeea-4ce7-a93e-a132e4bc4386",
   "metadata": {},
   "outputs": [],
   "source": [
    "# Accedemos a la pagina de un issue. Hay que ciclar en todos los volumnes e issues. Afortunadamente, el patron es claro\n",
    "driver.get('https://www.sciencedirect.com/journal/annals-of-hepatology/vol/27/issue/5')\n",
    "time.sleep(5)"
   ]
  },
  {
   "cell_type": "code",
   "execution_count": 5,
   "id": "832c97e2-dcb2-476f-bd88-ea01808eead6",
   "metadata": {},
   "outputs": [
    {
     "data": {
      "text/plain": [
       "['https://www.sciencedirect.com/science/article/pii/S1665268122000710',\n",
       " 'https://www.sciencedirect.com/science/article/pii/S166526812200062X',\n",
       " 'https://www.sciencedirect.com/science/article/pii/S1665268122000618',\n",
       " 'https://www.sciencedirect.com/science/article/pii/S1665268122000679',\n",
       " 'https://www.sciencedirect.com/science/article/pii/S1665268122000540',\n",
       " 'https://www.sciencedirect.com/science/article/pii/S1665268122000667',\n",
       " 'https://www.sciencedirect.com/science/article/pii/S1665268122000643',\n",
       " 'https://www.sciencedirect.com/science/article/pii/S1665268122000655',\n",
       " 'https://www.sciencedirect.com/science/article/pii/S1665268122000606']"
      ]
     },
     "execution_count": 5,
     "metadata": {},
     "output_type": "execute_result"
    }
   ],
   "source": [
    "# Obtenemos todas las urls de los elementos con clase article-content-title\n",
    "elems = [elem.get_attribute(\"href\") for elem in driver.find_elements(By.CLASS_NAME, \"article-content-title\")]\n",
    "elems"
   ]
  },
  {
   "cell_type": "code",
   "execution_count": 6,
   "id": "d658d4bb-aa25-4e53-a3d4-b0e68491d732",
   "metadata": {},
   "outputs": [],
   "source": [
    "# Seleccionamos el primer elemento. En el estado final, habria que ciclar por todos los elementos de la lista\n",
    "elem = elems[0]"
   ]
  },
  {
   "cell_type": "code",
   "execution_count": 7,
   "id": "7a2ac0e1-8882-4d54-b775-5f96c37f5b56",
   "metadata": {},
   "outputs": [
    {
     "name": "stdout",
     "output_type": "stream",
     "text": [
      "==================== titulo\n",
      "Combination of radiofrequency ablation and percutaneous ethanol injection versus radiofrequency ablation alone for hepatocellular carcinoma: a systematic review and meta-analysis\n",
      "==================== Abstract\n",
      "Abstract\n",
      "Introduction\n",
      "Radiofrequency ablation and percutaneous ethanol injection are important treatment modalities for hepatocellular carcinoma patients; Whether a combination treatment yields, additional benefit still remains controversial.\n",
      "Methods\n",
      "A systematic review and meta-analysis was concluded. Randomized controlled trials published before January 1, 2022, from PubMed, EMBASE, Scopus, and CNKI were searched. Studies were excluded when patients received different ablative treatment or had serious liver dysfunction. The risk of bias assessment was evaluated using the Cochrane Collaboration's tool.\n",
      "Results\n",
      "Ten studies, encompassing 854 patients, with histologically proven HCC were finally analyzed. The results demonstrated that patients who received RFA-PEI had slightly improvements in 1-year overall survival (OS) [risk ratio (RR): 1.11; 95% confidence interval (CI): 1.03, 1.19, I2 = 10%], 2-year OS (RR: 1.25; 95% CI: 1.12, 1.40, I2 = 0%), 3-year OS (RR: 1.42; 95% CI: 1.11, 1.83, I2 = 38%), 1-year local recurrence-free (LRF) proportion (RR: 1.2; 95% CI: 1.01, 1.42, I2 = 61%), and complete tumor necrosis (CTN) (RR: 1.32; 95% CI: 1.14, 1.53, I2 = 45%). Nevertheless, common complications, such as fever, were found to be significant (RR: 1.78, 95% CI: 1.13, 2.80).\n",
      "Conclusion\n",
      "Despite RFA-PEI appearing to be superior for HCC patients with a compensated liver in terms of OS, current evidence contained moderate to significant heterogeneity, and it was difficult to draw a definite conclusion regarding the therapeutic management in terms of LRF and CTN.\n"
     ]
    }
   ],
   "source": [
    "# accedemos a la url del articulo\n",
    "driver.get(elem)\n",
    "# Esperamos uno segundo para que la pagina cargue todos los elementos\n",
    "time.sleep(5)\n",
    "# Buscamos el titulo del articulo y lo imprimimos\n",
    "titulo = driver.find_element(By.CLASS_NAME,'title-text').text\n",
    "print(\"=\"*20,\"titulo\")\n",
    "print(titulo)\n",
    "# Buscamos el abstract del articulo y lo imprimimos\n",
    "abstract = driver.find_element(By.CLASS_NAME,'abstract').text\n",
    "print(\"=\"*20,\"Abstract\")\n",
    "print(abstract)"
   ]
  },
  {
   "cell_type": "code",
   "execution_count": 8,
   "id": "2abfd177-d007-4409-9815-38afc252e83d",
   "metadata": {},
   "outputs": [],
   "source": [
    "# Al finalizar, cerramos el driver para que no consuma recursos\n",
    "driver.close()"
   ]
  },
  {
   "cell_type": "code",
   "execution_count": null,
   "id": "8be664d1-3f2f-45d4-9565-cf3a263fb1c0",
   "metadata": {},
   "outputs": [],
   "source": []
  }
 ],
 "metadata": {
  "kernelspec": {
   "display_name": "Python 3 (ipykernel)",
   "language": "python",
   "name": "python3"
  },
  "language_info": {
   "codemirror_mode": {
    "name": "ipython",
    "version": 3
   },
   "file_extension": ".py",
   "mimetype": "text/x-python",
   "name": "python",
   "nbconvert_exporter": "python",
   "pygments_lexer": "ipython3",
   "version": "3.9.10"
  }
 },
 "nbformat": 4,
 "nbformat_minor": 5
}
